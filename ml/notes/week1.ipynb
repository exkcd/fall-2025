{
 "cells": [
  {
   "cell_type": "markdown",
   "id": "128fa387",
   "metadata": {},
   "source": [
    "# Week 1"
   ]
  },
  {
   "cell_type": "markdown",
   "id": "bfaafabb",
   "metadata": {},
   "source": [
    "08/25/2025\n",
    "\n",
    "## Recap\n",
    "\n",
    "Machine learning is an approximation of Z (mapping from features to response)\n",
    "\n",
    "### Example: Housing market\n",
    "\n",
    "#### Problem Space\n",
    "\n",
    "data/feature $X_i =$ age, # of rooms/bathrooms, location, proeprty size (square ft), type, hvac\n",
    "\n",
    "outcomes $Y =$ price, zip code, property tax, \"will 'x' sign lease?\""
   ]
  },
  {
   "cell_type": "markdown",
   "id": "7d415f12",
   "metadata": {},
   "source": [
    "## Supervised Learning\n",
    "\n",
    "**What is supervised learning?**\n",
    "\n",
    "Find patterns in *fully observed data*, then try to predict *partially observed* data\n",
    "\n",
    "* How much can I sell my house for?\n",
    "\n",
    "Approximate Z as f = X -> Y\n",
    "\n",
    "$D = {(X_i, Y_i)}_{i=1 \\rightarrow n}$\n",
    "\n",
    "* helpful for observing tumor growth\n",
    "\n",
    "\"Can we take a bunch of pictures of people with tumors, and people without and predict if a person has a tumor?\"\n",
    "\n",
    "***We are never able to think about our predictions as FACT***"
   ]
  },
  {
   "cell_type": "markdown",
   "id": "78386a50",
   "metadata": {},
   "source": [
    "## Unsupervised Learning\n",
    "\n",
    "**What is unsupervised learning?**\n",
    "\n",
    "Find *hidden structure* in data when Y is not formally observed\n",
    "\n",
    "Discover Z (discover something that might exist)\n",
    "\n",
    "$D = {(X_i)}_{i=1 \\rightarrow n}$"
   ]
  },
  {
   "cell_type": "markdown",
   "id": "626e9b36",
   "metadata": {},
   "source": [
    "## Discrete Answer Space\n",
    "\n",
    "**How would you describe a discrete answer space?**\n",
    "\n",
    "$y \\in \\{1, 2, ..., C\\}$ (Y is a \"class\")\n",
    "\n",
    "$y = f(x) = argmax \\ p(y = c | x, D)$\n",
    "\n",
    "* What kind of pet does someone have?"
   ]
  },
  {
   "cell_type": "markdown",
   "id": "7decd41b",
   "metadata": {},
   "source": [
    "## Continuous Answer Space\n",
    "\n",
    "**What is a continuous answer space?**\n",
    "\n",
    "$y \\in \\mathbb{R}$ (Y is a real number)\n",
    "\n",
    "* The housing market"
   ]
  },
  {
   "cell_type": "markdown",
   "id": "88bc925d",
   "metadata": {},
   "source": [
    "## Problem Space - College admissions\n",
    "\n",
    "Objective: Should a student be admitted into a certain college?\n",
    "\n",
    "Features: SAT/ACT scores, GPA, graduated status\n",
    "\n",
    "Goal: I want to admit students only if they will graduate\n",
    "\n",
    "This is: **Supervised learning**\n",
    "\n",
    "$X_i=$ \n",
    "\n",
    "$Y=$ graduate (y/n)"
   ]
  },
  {
   "cell_type": "markdown",
   "id": "eac58eb8",
   "metadata": {},
   "source": []
  }
 ],
 "metadata": {
  "language_info": {
   "name": "python"
  }
 },
 "nbformat": 4,
 "nbformat_minor": 5
}
