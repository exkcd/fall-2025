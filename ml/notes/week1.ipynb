{
 "cells": [
  {
   "cell_type": "markdown",
   "id": "128fa387",
   "metadata": {},
   "source": [
    "# Week 1"
   ]
  },
  {
   "cell_type": "markdown",
   "id": "d152ee55",
   "metadata": {},
   "source": [
    "2025/08/25"
   ]
  },
  {
   "cell_type": "markdown",
   "id": "bfaafabb",
   "metadata": {},
   "source": [
    "## Recap\n",
    "\n",
    "Machine learning is an approximation of Z (mapping from features to response)\n",
    "\n",
    "### Example: Housing market\n",
    "\n",
    "#### Problem Space\n",
    "\n",
    "data/feature $X_i =$ age, # of rooms/bathrooms, location, proeprty size (square ft), type, hvac\n",
    "\n",
    "outcomes $Y =$ price, zip code, property tax, \"will 'x' sign lease?\""
   ]
  },
  {
   "cell_type": "markdown",
   "id": "7d415f12",
   "metadata": {},
   "source": [
    "## Supervised Learning\n",
    "\n",
    "**What is supervised learning?**\n",
    "\n",
    "Find patterns in *fully observed data*, then try to predict *partially observed* data\n",
    "\n",
    "* How much can I sell my house for?\n",
    "\n",
    "Approximate Z as f = X -> Y\n",
    "\n",
    "$D = {(X_i, Y_i)}_{i=1 \\rightarrow n}$\n",
    "\n",
    "* helpful for observing tumor growth\n",
    "\n",
    "\"Can we take a bunch of pictures of people with tumors, and people without and predict if a person has a tumor?\"\n",
    "\n",
    "***We are never able to think about our predictions as FACT***"
   ]
  },
  {
   "cell_type": "markdown",
   "id": "78386a50",
   "metadata": {},
   "source": [
    "## Unsupervised Learning\n",
    "\n",
    "**What is unsupervised learning?**\n",
    "\n",
    "Find *hidden structure* in data when Y is not formally observed\n",
    "\n",
    "Discover Z (discover something that might exist)\n",
    "\n",
    "$D = {(X_i)}_{i=1 \\rightarrow n}$"
   ]
  },
  {
   "cell_type": "markdown",
   "id": "626e9b36",
   "metadata": {},
   "source": [
    "## Discrete Answer Space\n",
    "\n",
    "**How would you describe a discrete answer space?**\n",
    "\n",
    "$y \\in \\{1, 2, ..., C\\}$ (Y is a \"class\")\n",
    "\n",
    "$y = f(x) = argmax \\ p(y = c | x, D)$\n",
    "\n",
    "* What kind of pet does someone have?"
   ]
  },
  {
   "cell_type": "markdown",
   "id": "7decd41b",
   "metadata": {},
   "source": [
    "## Continuous Answer Space\n",
    "\n",
    "**What is a continuous answer space?**\n",
    "\n",
    "$y \\in \\mathbb{R}$ (Y is a real number)\n",
    "\n",
    "* The housing market"
   ]
  },
  {
   "cell_type": "markdown",
   "id": "88bc925d",
   "metadata": {},
   "source": [
    "## Problem Space - College admissions\n",
    "\n",
    "Objective: Should a student be admitted into a certain college?\n",
    "\n",
    "Features: SAT/ACT scores, GPA, graduated status\n",
    "\n",
    "Goal: I want to admit students only if they will graduate\n",
    "\n",
    "This is: **Supervised learning**\n",
    "\n",
    "$X_i=$\n",
    "\n",
    "$Y=$ graduate (y/n)"
   ]
  },
  {
   "cell_type": "markdown",
   "id": "eac58eb8",
   "metadata": {},
   "source": [
    "---\n",
    "\n",
    "2025/08/27"
   ]
  },
  {
   "cell_type": "markdown",
   "id": "697f518b",
   "metadata": {},
   "source": [
    "## K-Nearest Neighbors"
   ]
  },
  {
   "cell_type": "markdown",
   "id": "ea13e53f",
   "metadata": {},
   "source": [
    "### K-Nearest Classification\n",
    "\n",
    "Classify unknown 'x' by looking at features that are \"closest to it\"\n",
    "\n",
    "Euclidean distance: $\\sqrt{||x_i - x||^2}$\n",
    "\n",
    "Manhattan distance = $|x_i - x|$"
   ]
  },
  {
   "cell_type": "markdown",
   "id": "19fffdc2",
   "metadata": {},
   "source": [
    "#### K is even\n",
    "\n",
    "Messes up in binary setting\n",
    "\n",
    "**Solution(?)**\n",
    "\n",
    "Make K an odd number (most common solution)\n",
    "\n",
    "Set up defaults if there's a tie\n",
    "\n",
    "* Common default: Whichever case is more common\n",
    "* An ethical consideration: Whichever case is safer / more ethical"
   ]
  },
  {
   "cell_type": "markdown",
   "id": "298885ab",
   "metadata": {},
   "source": [
    "#### Multiple cases equidistant\n",
    "\n",
    "3 nearest neighbors are equidistant\n",
    "\n",
    "**Solution**\n",
    "\n",
    "Whichever one you encounter first in memory!\n",
    "\n",
    "Other answers:\n",
    "\n",
    "* Allow K to be flexible\n",
    "    * K = 4, K = 5, etc.\n",
    "* Fall back on a default role"
   ]
  },
  {
   "cell_type": "markdown",
   "id": "cb28c23e",
   "metadata": {},
   "source": [
    "### K-Nearest Regression\n",
    "\n",
    "Label \"Y\" is a numeric value instead of a class\n",
    "\n",
    "Find K neighboring points and find the average of their Y values"
   ]
  },
  {
   "cell_type": "markdown",
   "id": "8abd4a0b",
   "metadata": {},
   "source": [
    "---\n",
    "2025/08/29"
   ]
  },
  {
   "cell_type": "markdown",
   "id": "afc2a2fb",
   "metadata": {},
   "source": [
    "## Min-Max Scaling"
   ]
  },
  {
   "cell_type": "markdown",
   "id": "e89eeb32",
   "metadata": {},
   "source": [
    "Transform X (data) to X' (scaled data)\n",
    "\n",
    "For ($x_i$) in X:\n",
    "\n",
    "    scale = max(xi) - min(xi)\n",
    "    low = min(xi)\n",
    "    For (xi,j) in (xi)\n",
    "        x'i,j = (xi,j - low)/scale"
   ]
  },
  {
   "cell_type": "markdown",
   "id": "53061b07",
   "metadata": {},
   "source": [
    "## Normalization"
   ]
  },
  {
   "cell_type": "markdown",
   "id": "5dbd35bc",
   "metadata": {},
   "source": [
    "Transform X (data) to X' (scaled data)\n",
    "\n",
    "For ($x_i$) in X:\n",
    "\n",
    "    mean = avg(xi)\n",
    "    dev = stdev(xi)\n",
    "    For (xi,j) in (xi):\n",
    "        x'i,j = (xi,j - mean)/dev"
   ]
  },
  {
   "cell_type": "markdown",
   "id": "27385574",
   "metadata": {},
   "source": [
    "## Find Nearest Neighbors\n",
    "\n",
    "Objective: Classification\n",
    "\n",
    "### How do we know if it works?\n",
    "\n",
    "* Check a known answer!"
   ]
  },
  {
   "cell_type": "markdown",
   "id": "4d82dec4",
   "metadata": {},
   "source": [
    "## Training and test sets\n",
    "\n",
    "* Pulling random data = representative and NOT just testing inherent bias of model/data"
   ]
  },
  {
   "cell_type": "markdown",
   "id": "603dd4d3",
   "metadata": {},
   "source": [
    "### Types of errors"
   ]
  },
  {
   "cell_type": "markdown",
   "id": "a1c43bac",
   "metadata": {},
   "source": [
    "| Ground truth | C | ~C |\n",
    "| ------------ | - | -  |\n",
    "| C            | True positive (Hit) | False negative (miss) |\n",
    "| ~C           | False positive (false alarm) | True negative (correct rejection) |"
   ]
  },
  {
   "cell_type": "markdown",
   "id": "2bb5a6da",
   "metadata": {},
   "source": [
    "### KNN - Small K\n",
    "\n",
    "* Any odd cases (outliers) still have impact on prediction\n",
    "\n",
    "* Overfitting -- allows individual samples to have too much power\n",
    "\n",
    "### Large K\n",
    "\n",
    "* Very imprecise with border; lose nuance in edge cases\n",
    "\n",
    "* Underfitting -- giving individual samples too little power "
   ]
  },
  {
   "cell_type": "markdown",
   "id": "612b83e9",
   "metadata": {},
   "source": [
    "## What is the correct # of K?\n",
    "\n",
    "* Depends\n",
    "\n",
    "* Probably more than 1\n",
    "\n",
    "\n",
    "### How to optimize K using validation set?\n",
    "\n",
    "\n",
    "* Build a model using K=1 -> check how good it is\n",
    "\n",
    "* Build a model using K=2 -> check that\n",
    "\n",
    "* Repeat your m-n models. Which one is best?"
   ]
  },
  {
   "cell_type": "markdown",
   "id": "a8aef308",
   "metadata": {},
   "source": []
  }
 ],
 "metadata": {
  "language_info": {
   "name": "python"
  }
 },
 "nbformat": 4,
 "nbformat_minor": 5
}
