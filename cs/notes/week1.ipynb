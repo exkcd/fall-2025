{
 "cells": [
  {
   "cell_type": "markdown",
   "id": "762e88fd",
   "metadata": {},
   "source": [
    "# Week 1"
   ]
  },
  {
   "cell_type": "markdown",
   "id": "e3c5c140",
   "metadata": {},
   "source": [
    "2025/08/26"
   ]
  },
  {
   "cell_type": "markdown",
   "id": "b3f7ebe8",
   "metadata": {},
   "source": [
    "## Web Fundamentals\n",
    "\n",
    "**Pros**\n",
    "\n",
    "* very common\n",
    "* lots can go wrong\n",
    "* easy to get started\n",
    "\n",
    "\n",
    "**Cons**\n",
    "\n",
    "* need to know how websites work"
   ]
  },
  {
   "cell_type": "markdown",
   "id": "34284fee",
   "metadata": {},
   "source": [
    "## What happens when you visit a webpage?"
   ]
  },
  {
   "cell_type": "markdown",
   "id": "759b8243",
   "metadata": {},
   "source": [
    "* client asks for webpage from server\n",
    "* server sends code to render website\n",
    "* client renders website using code"
   ]
  },
  {
   "cell_type": "markdown",
   "id": "b898d739",
   "metadata": {},
   "source": [
    "## Client side code"
   ]
  },
  {
   "cell_type": "markdown",
   "id": "0aecbbfa",
   "metadata": {},
   "source": [
    "* runs on user's pc which is used to display the website\n",
    "\n",
    "### HTML\n",
    "\n",
    "all websites uses **HTML** (HyperText Markup Language)\n",
    "\n",
    "* standardized\n",
    "* not a programming language like C++ or Java\n",
    "* taking content of page and telling the computer each bit of content should look and behave\n",
    "* uses tags\n",
    "\n",
    "```html\n",
    "<tag> Content goes here </tag>\n",
    "```\n",
    "\n",
    "Tags can have attributes\n",
    "\n",
    "```html\n",
    "<img src=\"/image.png\" width=\"50px\"></img>\n",
    "```\n",
    "\n",
    "HTML can contain Javascript and CSS\n",
    "\n",
    "* CSS (cascading stylesheet): changes appearance of HTML\n",
    "* JavaScript: adds additional functionality and interactivity"
   ]
  },
  {
   "cell_type": "markdown",
   "id": "6eaa7742",
   "metadata": {},
   "source": [
    "## Any security problems here?"
   ]
  },
  {
   "cell_type": "markdown",
   "id": "6ef752c9",
   "metadata": {},
   "source": [
    "* client *downloads* the code\n",
    "* you can change it! (modify, read, etc.)"
   ]
  },
  {
   "cell_type": "markdown",
   "id": "139db045",
   "metadata": {},
   "source": [
    "---\n",
    "2025/08/28"
   ]
  },
  {
   "cell_type": "markdown",
   "id": "6091fcc6",
   "metadata": {},
   "source": [
    "## Recap"
   ]
  },
  {
   "cell_type": "markdown",
   "id": "122be1d2",
   "metadata": {},
   "source": [
    "* client code: displays webpage. written in html\n",
    "* server code: responds to messages from client"
   ]
  },
  {
   "cell_type": "markdown",
   "id": "6a477b06",
   "metadata": {},
   "source": [
    "## Server-side code\n",
    "\n",
    "* Sends code data to clients when requested\n",
    "* Listens for new connections\n",
    "* Can be written in any language"
   ]
  },
  {
   "cell_type": "markdown",
   "id": "fe9714f9",
   "metadata": {},
   "source": [
    "## Python\n",
    "\n",
    "* General-purpose programming language like C++\n",
    "* No brackets, instead whitespace matters\n",
    "* Types are implicit\n",
    "\n",
    "Flask: very simple web server library from Python"
   ]
  },
  {
   "cell_type": "code",
   "execution_count": 5,
   "id": "b8ef8ffe",
   "metadata": {},
   "outputs": [],
   "source": [
    "from flask import Flask, render_template\n",
    "\n",
    "app = Flask(__name__)\n",
    "\n",
    "@app.route(\"/\")\n",
    "def index():\n",
    "    return render_template(\"index.html\")\n",
    "\n",
    "# app.run()"
   ]
  },
  {
   "cell_type": "markdown",
   "id": "15a42bbe",
   "metadata": {},
   "source": [
    "### Request Types\n",
    "\n",
    "* GET: asks for code form the server\n",
    "* POST: requests send data to the server"
   ]
  },
  {
   "cell_type": "markdown",
   "id": "271d956d",
   "metadata": {},
   "source": [
    "URLS: Specify which data or file the client is requesting\n",
    "\n",
    "* Host: www.something.com (website connecting to)\n",
    "\n",
    "* Path: www.something.com**/about** ( Which data/file you are requesting)"
   ]
  },
  {
   "cell_type": "markdown",
   "id": "e8f18a8e",
   "metadata": {},
   "source": []
  }
 ],
 "metadata": {
  "kernelspec": {
   "display_name": ".env",
   "language": "python",
   "name": "python3"
  },
  "language_info": {
   "codemirror_mode": {
    "name": "ipython",
    "version": 3
   },
   "file_extension": ".py",
   "mimetype": "text/x-python",
   "name": "python",
   "nbconvert_exporter": "python",
   "pygments_lexer": "ipython3",
   "version": "3.13.7"
  }
 },
 "nbformat": 4,
 "nbformat_minor": 5
}
