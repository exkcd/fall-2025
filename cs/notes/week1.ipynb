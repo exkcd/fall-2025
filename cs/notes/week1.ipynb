{
 "cells": [
  {
   "cell_type": "markdown",
   "id": "762e88fd",
   "metadata": {},
   "source": [
    "# Week 1"
   ]
  },
  {
   "cell_type": "markdown",
   "id": "e3c5c140",
   "metadata": {},
   "source": [
    "2025/08/25"
   ]
  },
  {
   "cell_type": "markdown",
   "id": "b3f7ebe8",
   "metadata": {},
   "source": [
    "## Web Fundamentals\n",
    "\n",
    "**Pros**\n",
    "\n",
    "* very common\n",
    "* lots can go wrong\n",
    "* easy to get started\n",
    "\n",
    "\n",
    "**Cons**\n",
    "\n",
    "* need to know how websites work"
   ]
  },
  {
   "cell_type": "markdown",
   "id": "34284fee",
   "metadata": {},
   "source": [
    "## What happens when you visit a webpage?"
   ]
  },
  {
   "cell_type": "markdown",
   "id": "759b8243",
   "metadata": {},
   "source": [
    "* client asks for webpage from server\n",
    "* server sends code to render website\n",
    "* client renders website using code"
   ]
  },
  {
   "cell_type": "markdown",
   "id": "b898d739",
   "metadata": {},
   "source": [
    "## Client side code"
   ]
  },
  {
   "cell_type": "markdown",
   "id": "0aecbbfa",
   "metadata": {},
   "source": [
    "* runs on user's pc which is used to display the website\n",
    "\n",
    "### HTML\n",
    "\n",
    "all websites uses **HTML** (HyperText Markup Language)\n",
    "\n",
    "* standardized\n",
    "* not a programming language like C++ or Java\n",
    "* taking content of page and telling the computer each bit of content should look and behave\n",
    "* uses tags\n",
    "\n",
    "```html\n",
    "<tag> Content goes here </tag>\n",
    "```\n",
    "\n",
    "Tags can have attributes\n",
    "\n",
    "```html\n",
    "<img src=\"/image.png\" width=\"50px\"></img>\n",
    "```\n",
    "\n",
    "HTML can contain Javascript and CSS\n",
    "\n",
    "* CSS (cascading stylesheet): changes appearance of HTML\n",
    "* JavaScript: adds additional functionality and interactivity"
   ]
  },
  {
   "cell_type": "markdown",
   "id": "6eaa7742",
   "metadata": {},
   "source": [
    "## Any security problems here?"
   ]
  },
  {
   "cell_type": "markdown",
   "id": "6ef752c9",
   "metadata": {},
   "source": [
    "* client *downloads* the code\n",
    "* you can change it! (modify, read, etc.)"
   ]
  }
 ],
 "metadata": {
  "language_info": {
   "name": "python"
  }
 },
 "nbformat": 4,
 "nbformat_minor": 5
}
